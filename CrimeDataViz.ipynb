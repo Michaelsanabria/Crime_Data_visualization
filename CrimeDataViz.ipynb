{
 "cells": [
  {
   "cell_type": "code",
   "execution_count": 12,
   "id": "11c5c19c-af80-4466-be9c-5e58ad540219",
   "metadata": {},
   "outputs": [
    {
     "name": "stdout",
     "output_type": "stream",
     "text": [
      "<class 'pandas.core.frame.DataFrame'>\n",
      "RangeIndex: 536744 entries, 0 to 536743\n",
      "Data columns (total 18 columns):\n",
      " #   Column          Non-Null Count   Dtype  \n",
      "---  ------          --------------   -----  \n",
      " 0   Date Rptd       536744 non-null  object \n",
      " 1   DATE OCC        536744 non-null  object \n",
      " 2   TIME OCC        536744 non-null  int64  \n",
      " 3   AREA            536744 non-null  int64  \n",
      " 4   AREA NAME       536744 non-null  object \n",
      " 5   Rpt Dist No     536744 non-null  int64  \n",
      " 6   Crm Cd Desc     536744 non-null  object \n",
      " 7   Vict Age        536744 non-null  int64  \n",
      " 8   Vict Sex        466655 non-null  object \n",
      " 9   Premis Cd       536739 non-null  float64\n",
      " 10  Premis Desc     536500 non-null  object \n",
      " 11  Weapon Used Cd  189178 non-null  float64\n",
      " 12  Status          536744 non-null  object \n",
      " 13  Status Desc     536744 non-null  object \n",
      " 14  LOCATION        536744 non-null  object \n",
      " 15  Cross Street    89821 non-null   object \n",
      " 16  LAT             536744 non-null  float64\n",
      " 17  LON             536744 non-null  float64\n",
      "dtypes: float64(4), int64(4), object(10)\n",
      "memory usage: 73.7+ MB\n",
      "None\n",
      "       Date Rptd      DATE OCC  TIME OCC  AREA   AREA NAME  Rpt Dist No  \\\n",
      "0    3/1/20 0:00   3/1/20 0:00      2130     7    Wilshire          784   \n",
      "1    2/9/20 0:00   2/8/20 0:00      1800     1     Central          182   \n",
      "2  11/11/20 0:00  11/4/20 0:00      1700     3   Southwest          356   \n",
      "3   5/10/23 0:00  3/10/20 0:00      2037     9    Van Nuys          964   \n",
      "4    9/9/20 0:00   9/9/20 0:00       630     4  Hollenbeck          413   \n",
      "\n",
      "                                Crm Cd Desc  Vict Age Vict Sex  Premis Cd  \\\n",
      "0                          VEHICLE - STOLEN         0        M      101.0   \n",
      "1                     BURGLARY FROM VEHICLE        47        M      128.0   \n",
      "2                             BIKE - STOLEN        19        X      502.0   \n",
      "3  SHOPLIFTING-GRAND THEFT ($950.01 & OVER)        19        M      405.0   \n",
      "4                          VEHICLE - STOLEN         0      NaN      101.0   \n",
      "\n",
      "                                    Premis Desc  Weapon Used Cd Status  \\\n",
      "0                                        STREET             NaN     AA   \n",
      "1             BUS STOP/LAYOVER (ALSO QUERY 124)             NaN     IC   \n",
      "2  MULTI-UNIT DWELLING (APARTMENT, DUPLEX, ETC)             NaN     IC   \n",
      "3                                CLOTHING STORE             NaN     IC   \n",
      "4                                        STREET             NaN     IC   \n",
      "\n",
      "    Status Desc                                  LOCATION Cross Street  \\\n",
      "0  Adult Arrest   1900 S  LONGWOOD                     AV          NaN   \n",
      "1   Invest Cont   1000 S  FLOWER                       ST          NaN   \n",
      "2   Invest Cont   1400 W  37TH                         ST          NaN   \n",
      "3   Invest Cont  14000    RIVERSIDE                    DR          NaN   \n",
      "4   Invest Cont                          200 E  AVENUE 28          NaN   \n",
      "\n",
      "       LAT       LON  \n",
      "0  34.0375 -118.3506  \n",
      "1  34.0444 -118.2628  \n",
      "2  34.0210 -118.3002  \n",
      "3  34.1576 -118.4387  \n",
      "4  34.0820 -118.2130  \n"
     ]
    }
   ],
   "source": [
    "import pandas as pd\n",
    "import numpy as np\n",
    "import matplotlib.pyplot as plt\n",
    "import seaborn as sns\n",
    "\n",
    "# Load dataset\n",
    "df = pd.read_csv('/Users/michael/Desktop/Crime_Data_visualization/data/raw/.ipynb_checkpoints/Crime_Data_from_2020_to_Present copy-checkpoint.csv')\n",
    "\n",
    "# Display basic information about the data\n",
    "print(df.info())\n",
    "print(df.head())\n"
   ]
  }
 ],
 "metadata": {
  "kernelspec": {
   "display_name": "Python 3 (ipykernel)",
   "language": "python",
   "name": "python3"
  },
  "language_info": {
   "codemirror_mode": {
    "name": "ipython",
    "version": 3
   },
   "file_extension": ".py",
   "mimetype": "text/x-python",
   "name": "python",
   "nbconvert_exporter": "python",
   "pygments_lexer": "ipython3",
   "version": "3.12.1"
  }
 },
 "nbformat": 4,
 "nbformat_minor": 5
}
